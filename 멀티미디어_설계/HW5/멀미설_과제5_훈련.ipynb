{
  "nbformat": 4,
  "nbformat_minor": 0,
  "metadata": {
    "colab": {
      "provenance": []
    },
    "kernelspec": {
      "name": "python3",
      "display_name": "Python 3"
    },
    "language_info": {
      "name": "python"
    }
  },
  "cells": [
    {
      "cell_type": "code",
      "execution_count": null,
      "metadata": {
        "colab": {
          "base_uri": "https://localhost:8080/"
        },
        "id": "BulAvoX9Suoc",
        "outputId": "0f6c91bb-0547-4685-c857-37acb5325e40"
      },
      "outputs": [
        {
          "output_type": "stream",
          "name": "stdout",
          "text": [
            "Mounted at /content/drive\n"
          ]
        }
      ],
      "source": [
        "from google.colab import drive\n",
        "drive.mount('/content/drive')\n",
        "PATH = '/content/drive/MyDrive/Colab Notebooks/test_image/'"
      ]
    },
    {
      "cell_type": "code",
      "source": [
        "# 전역 변수 설정\n",
        "TOTAL_IMAGES = 19\n",
        "WIDTH, HEIGHT = 512, 512\n",
        "K = [4, 16, 64]\n",
        "N = [4, 8, 16, 32, 64, 128]"
      ],
      "metadata": {
        "id": "NLz2-TDFTCX4"
      },
      "execution_count": null,
      "outputs": []
    },
    {
      "cell_type": "code",
      "source": [
        "# 이미지 파일 이름 가져오기\n",
        "image_data = {}\n",
        "for i in range(TOTAL_IMAGES):  # I0 ~ I18\n",
        "    filename = f'I{i}.img'\n",
        "    filepath = f'{PATH}{filename}'\n",
        "\n",
        "    try:\n",
        "        with open(filepath, 'rb') as file:\n",
        "            data = file.read()\n",
        "            image_data[i] = data\n",
        "        print(f'{i} 파일 읽기 성공')\n",
        "    except FileNotFoundError:\n",
        "        print(f'{i} 파일 읽기 실패')"
      ],
      "metadata": {
        "colab": {
          "base_uri": "https://localhost:8080/"
        },
        "id": "8D-MJE6_TDlK",
        "outputId": "30d05095-01fa-4e5d-b6d9-e62b08218793"
      },
      "execution_count": null,
      "outputs": [
        {
          "output_type": "stream",
          "name": "stdout",
          "text": [
            "0 파일 읽기 성공\n",
            "1 파일 읽기 성공\n",
            "2 파일 읽기 성공\n",
            "3 파일 읽기 성공\n",
            "4 파일 읽기 성공\n",
            "5 파일 읽기 성공\n",
            "6 파일 읽기 성공\n",
            "7 파일 읽기 성공\n",
            "8 파일 읽기 성공\n",
            "9 파일 읽기 성공\n",
            "10 파일 읽기 성공\n",
            "11 파일 읽기 성공\n",
            "12 파일 읽기 성공\n",
            "13 파일 읽기 성공\n",
            "14 파일 읽기 성공\n",
            "15 파일 읽기 성공\n",
            "16 파일 읽기 성공\n",
            "17 파일 읽기 성공\n",
            "18 파일 읽기 성공\n"
          ]
        }
      ]
    },
    {
      "cell_type": "code",
      "source": [
        "# 이미지 K차원 변환\n",
        "def reshape_image(data, n):\n",
        "\n",
        "    dimension_size = int(n ** 0.5)\n",
        "    result = []\n",
        "\n",
        "    dimension_width = WIDTH // dimension_size\n",
        "    dimension_height = HEIGHT // dimension_size\n",
        "    for d in range(TOTAL_IMAGES):\n",
        "        for block_y in range(dimension_height):\n",
        "            for block_x in range(dimension_width):\n",
        "                block = []\n",
        "                for y in range(dimension_size):\n",
        "                    for x in range(dimension_size):\n",
        "                        pixel_x = block_x*dimension_size + x\n",
        "                        pixel_y = block_y*dimension_size + y\n",
        "                        index = pixel_y*WIDTH + pixel_x\n",
        "                        block.append(data[d][index])\n",
        "                result.append(block)\n",
        "    return result"
      ],
      "metadata": {
        "id": "Z5__mZ7eTE4j"
      },
      "execution_count": null,
      "outputs": []
    },
    {
      "cell_type": "code",
      "source": [
        "# k-means 클러스트링 함수\n",
        "import random\n",
        "\n",
        "class k_means():\n",
        "    def __init__(self, max_iter=100):\n",
        "        self.max_iter = max_iter\n",
        "\n",
        "    def initialize_centroids(self, dataset, clu, prev_centroids=None):\n",
        "        if prev_centroids is None:\n",
        "            return [random.choice(dataset) for _ in range(clu)]\n",
        "        else:\n",
        "            new_centroids = prev_centroids.copy()\n",
        "            while len(new_centroids) < clu:\n",
        "                new_centroids.append(random.choice(dataset))\n",
        "            return new_centroids[:clu]\n",
        "\n",
        "    def cal_distance(self, a, b):\n",
        "        return sum((a_i - b_i) ** 2 for a_i, b_i in zip(a, b)) ** 0.5\n",
        "\n",
        "    def assign_clusters(self, centroids, dataset):\n",
        "        clusters = [[] for _ in range(len(centroids))]\n",
        "        for point in dataset:\n",
        "            distances = [self.cal_distance(point, centroid) for centroid in centroids]\n",
        "            index = distances.index(min(distances))\n",
        "            clusters[index].append(point)\n",
        "        return clusters\n",
        "\n",
        "    def cal_new_centroids(self, clusters, dataset):\n",
        "        new_centroids = []\n",
        "        for cluster in clusters:\n",
        "            if cluster:\n",
        "                avr_centroid = [round(sum(dim)/len(dim), 4) for dim in zip(*cluster)]\n",
        "                new_centroids.append(avr_centroid)\n",
        "            else:\n",
        "                new_centroids.append(random.choice(dataset))\n",
        "        return new_centroids\n",
        "\n",
        "    def execute_k_means(self, dataset, clu, prev_centroids=None):\n",
        "        centroids = self.initialize_centroids(dataset, clu, prev_centroids)\n",
        "        for _ in range(self.max_iter):\n",
        "            clusters = self.assign_clusters(centroids, dataset)\n",
        "            new_centroids = self.cal_new_centroids(clusters, dataset)\n",
        "            if centroids == new_centroids:\n",
        "                break\n",
        "            centroids = new_centroids\n",
        "        return centroids\n",
        "\n",
        "# 파일 저장 함수\n",
        "def save_centroids(centroids, n, dim):\n",
        "    filename = f'/{dim}_{n}_centroids.txt'\n",
        "    filepath = f'{PATH}{filename}'\n",
        "    with open(filepath, 'w') as file:\n",
        "        for row in centroids:\n",
        "            line = ','.join(map(str, row))\n",
        "            file.write(line + '\\n')\n",
        "\n",
        "def run_k_means(dataset, N, dim):\n",
        "    kmeans = k_means()\n",
        "    final_results = {}\n",
        "    prev_centroids = None\n",
        "    for n in N:\n",
        "        centroids = kmeans.execute_k_means(dataset, n, prev_centroids)\n",
        "        final_results[n] = centroids\n",
        "        prev_centroids = centroids\n",
        "        save_centroids(centroids, n, dim)\n",
        "        print(n, centroids)\n",
        "    return final_results"
      ],
      "metadata": {
        "id": "LHRw9FdmTHRk"
      },
      "execution_count": null,
      "outputs": []
    },
    {
      "cell_type": "code",
      "source": [
        "for k in K:\n",
        "    reshap_images = reshape_image(image_data, k)\n",
        "    result = run_k_means(reshap_images, N, k)"
      ],
      "metadata": {
        "id": "s63khe4Kc_Do",
        "colab": {
          "base_uri": "https://localhost:8080/",
          "height": 312
        },
        "outputId": "dcf50cf5-676c-4783-939c-4c309518e315"
      },
      "execution_count": null,
      "outputs": [
        {
          "output_type": "error",
          "ename": "KeyboardInterrupt",
          "evalue": "",
          "traceback": [
            "\u001b[0;31m---------------------------------------------------------------------------\u001b[0m",
            "\u001b[0;31mKeyboardInterrupt\u001b[0m                         Traceback (most recent call last)",
            "\u001b[0;32m<ipython-input-6-8e33ca0f3c6f>\u001b[0m in \u001b[0;36m<cell line: 1>\u001b[0;34m()\u001b[0m\n\u001b[1;32m      1\u001b[0m \u001b[0;32mfor\u001b[0m \u001b[0mk\u001b[0m \u001b[0;32min\u001b[0m \u001b[0mK\u001b[0m\u001b[0;34m:\u001b[0m\u001b[0;34m\u001b[0m\u001b[0;34m\u001b[0m\u001b[0m\n\u001b[0;32m----> 2\u001b[0;31m     \u001b[0mreshap_images\u001b[0m \u001b[0;34m=\u001b[0m \u001b[0mreshape_image\u001b[0m\u001b[0;34m(\u001b[0m\u001b[0mimage_data\u001b[0m\u001b[0;34m,\u001b[0m \u001b[0mk\u001b[0m\u001b[0;34m)\u001b[0m\u001b[0;34m\u001b[0m\u001b[0;34m\u001b[0m\u001b[0m\n\u001b[0m\u001b[1;32m      3\u001b[0m     \u001b[0mresult\u001b[0m \u001b[0;34m=\u001b[0m \u001b[0mrun_k_means\u001b[0m\u001b[0;34m(\u001b[0m\u001b[0mreshap_images\u001b[0m\u001b[0;34m,\u001b[0m \u001b[0mN\u001b[0m\u001b[0;34m,\u001b[0m \u001b[0mk\u001b[0m\u001b[0;34m)\u001b[0m\u001b[0;34m\u001b[0m\u001b[0;34m\u001b[0m\u001b[0m\n",
            "\u001b[0;32m<ipython-input-4-6e5d51d77fee>\u001b[0m in \u001b[0;36mreshape_image\u001b[0;34m(data, n)\u001b[0m\n\u001b[1;32m     12\u001b[0m                 \u001b[0mblock\u001b[0m \u001b[0;34m=\u001b[0m \u001b[0;34m[\u001b[0m\u001b[0;34m]\u001b[0m\u001b[0;34m\u001b[0m\u001b[0;34m\u001b[0m\u001b[0m\n\u001b[1;32m     13\u001b[0m                 \u001b[0;32mfor\u001b[0m \u001b[0my\u001b[0m \u001b[0;32min\u001b[0m \u001b[0mrange\u001b[0m\u001b[0;34m(\u001b[0m\u001b[0mdimension_size\u001b[0m\u001b[0;34m)\u001b[0m\u001b[0;34m:\u001b[0m\u001b[0;34m\u001b[0m\u001b[0;34m\u001b[0m\u001b[0m\n\u001b[0;32m---> 14\u001b[0;31m                     \u001b[0;32mfor\u001b[0m \u001b[0mx\u001b[0m \u001b[0;32min\u001b[0m \u001b[0mrange\u001b[0m\u001b[0;34m(\u001b[0m\u001b[0mdimension_size\u001b[0m\u001b[0;34m)\u001b[0m\u001b[0;34m:\u001b[0m\u001b[0;34m\u001b[0m\u001b[0;34m\u001b[0m\u001b[0m\n\u001b[0m\u001b[1;32m     15\u001b[0m                         \u001b[0mpixel_x\u001b[0m \u001b[0;34m=\u001b[0m \u001b[0mblock_x\u001b[0m\u001b[0;34m*\u001b[0m\u001b[0mdimension_size\u001b[0m \u001b[0;34m+\u001b[0m \u001b[0mx\u001b[0m\u001b[0;34m\u001b[0m\u001b[0;34m\u001b[0m\u001b[0m\n\u001b[1;32m     16\u001b[0m                         \u001b[0mpixel_y\u001b[0m \u001b[0;34m=\u001b[0m \u001b[0mblock_y\u001b[0m\u001b[0;34m*\u001b[0m\u001b[0mdimension_size\u001b[0m \u001b[0;34m+\u001b[0m \u001b[0my\u001b[0m\u001b[0;34m\u001b[0m\u001b[0;34m\u001b[0m\u001b[0m\n",
            "\u001b[0;31mKeyboardInterrupt\u001b[0m: "
          ]
        }
      ]
    }
  ]
}